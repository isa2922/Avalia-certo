{
 "cells": [
  {
   "cell_type": "raw",
   "id": "bb0e155f-b77a-4349-8324-9bee047e610d",
   "metadata": {},
   "source": [
    "---\n",
    "title: \"Avaliação\"\n",
    "author: \"Isabella Wiens\"\n",
    "date: \"20 de junho de 2023\"\n",
    "lang: pt\n",
    "format: \n",
    "  html:\n",
    "    code-tools: true\n",
    "    code-fold: true\n",
    "    default-image-extension: png\n",
    "    page-layout: full\n",
    "jupyter: python3\n",
    "---"
   ]
  },
  {
   "cell_type": "markdown",
   "id": "447902c3-e20e-4155-9cb8-208322beb624",
   "metadata": {},
   "source": [
    "# Lista de Exercício 4"
   ]
  },
  {
   "cell_type": "code",
   "execution_count": 1,
   "id": "95b0881e-0a57-4bbf-be66-ca7d1cb533a5",
   "metadata": {},
   "outputs": [
    {
     "name": "stdout",
     "output_type": "stream",
     "text": [
      "Defaulting to user installation because normal site-packages is not writeable\n",
      "Requirement already satisfied: pandas in c:\\programdata\\anaconda3\\lib\\site-packages (1.4.4)\n",
      "Requirement already satisfied: python-dateutil>=2.8.1 in c:\\programdata\\anaconda3\\lib\\site-packages (from pandas) (2.8.2)\n",
      "Requirement already satisfied: pytz>=2020.1 in c:\\programdata\\anaconda3\\lib\\site-packages (from pandas) (2022.1)\n",
      "Requirement already satisfied: numpy>=1.18.5 in c:\\programdata\\anaconda3\\lib\\site-packages (from pandas) (1.21.5)\n",
      "Requirement already satisfied: six>=1.5 in c:\\programdata\\anaconda3\\lib\\site-packages (from python-dateutil>=2.8.1->pandas) (1.16.0)\n",
      "Note: you may need to restart the kernel to use updated packages.\n"
     ]
    }
   ],
   "source": [
    "pip install pandas"
   ]
  },
  {
   "cell_type": "code",
   "execution_count": 2,
   "id": "289c4fab-a28f-4cb6-9d01-59d6984942e5",
   "metadata": {},
   "outputs": [
    {
     "name": "stdout",
     "output_type": "stream",
     "text": [
      "Defaulting to user installation because normal site-packages is not writeable\n",
      "Requirement already satisfied: ipeadatapy in c:\\users\\isabella.wiens.grupomarista\\appdata\\roaming\\python\\python39\\site-packages (0.1.9)\n",
      "Requirement already satisfied: requests in c:\\programdata\\anaconda3\\lib\\site-packages (from ipeadatapy) (2.28.1)\n",
      "Requirement already satisfied: pandas in c:\\programdata\\anaconda3\\lib\\site-packages (from ipeadatapy) (1.4.4)\n",
      "Requirement already satisfied: pytz>=2020.1 in c:\\programdata\\anaconda3\\lib\\site-packages (from pandas->ipeadatapy) (2022.1)\n",
      "Requirement already satisfied: python-dateutil>=2.8.1 in c:\\programdata\\anaconda3\\lib\\site-packages (from pandas->ipeadatapy) (2.8.2)\n",
      "Requirement already satisfied: numpy>=1.18.5 in c:\\programdata\\anaconda3\\lib\\site-packages (from pandas->ipeadatapy) (1.21.5)\n",
      "Requirement already satisfied: certifi>=2017.4.17 in c:\\programdata\\anaconda3\\lib\\site-packages (from requests->ipeadatapy) (2022.9.14)\n",
      "Requirement already satisfied: idna<4,>=2.5 in c:\\programdata\\anaconda3\\lib\\site-packages (from requests->ipeadatapy) (3.3)\n",
      "Requirement already satisfied: charset-normalizer<3,>=2 in c:\\programdata\\anaconda3\\lib\\site-packages (from requests->ipeadatapy) (2.0.4)\n",
      "Requirement already satisfied: urllib3<1.27,>=1.21.1 in c:\\programdata\\anaconda3\\lib\\site-packages (from requests->ipeadatapy) (1.26.11)\n",
      "Requirement already satisfied: six>=1.5 in c:\\programdata\\anaconda3\\lib\\site-packages (from python-dateutil>=2.8.1->pandas->ipeadatapy) (1.16.0)\n"
     ]
    }
   ],
   "source": [
    "!pip install ipeadatapy"
   ]
  },
  {
   "cell_type": "markdown",
   "id": "beadf6fb-c766-43c7-a65d-7e13344d6efe",
   "metadata": {},
   "source": [
    "1) Escolha da base de dados: o aluno tem liberdade para escolher a base de dados que utilizará na atividade, desde dados de uma empresa ao longo do tempo, de várias empresas em um determinado momento, até indicadores econômicos, sociais ou demográficos. Pode ser em formato CSV ou utilizando alguma biblioteca (API) específica, como fizemos com o Ipeadata. Caso precise, segue lista de locais para baixar bases de dados (https://www.cienciadedados.org/bancosdadosLinks to an external site.)\n",
    "\n",
    "1.1) Restrição: uma base com, pelo menos, 3 variáveis (colunas) numéricas. Deve importar a base para o projeto e apresentar as primeiras linhas para confirmar\n",
    "\n",
    "1.2) Peso: 2,0"
   ]
  },
  {
   "cell_type": "code",
   "execution_count": 3,
   "id": "fa117ed7-e148-4205-ba8a-e741fc30660a",
   "metadata": {},
   "outputs": [
    {
     "data": {
      "text/html": [
       "<div>\n",
       "<style scoped>\n",
       "    .dataframe tbody tr th:only-of-type {\n",
       "        vertical-align: middle;\n",
       "    }\n",
       "\n",
       "    .dataframe tbody tr th {\n",
       "        vertical-align: top;\n",
       "    }\n",
       "\n",
       "    .dataframe thead th {\n",
       "        text-align: right;\n",
       "    }\n",
       "</style>\n",
       "<table border=\"1\" class=\"dataframe\">\n",
       "  <thead>\n",
       "    <tr style=\"text-align: right;\">\n",
       "      <th></th>\n",
       "      <th>CODE</th>\n",
       "      <th>NAME</th>\n",
       "    </tr>\n",
       "  </thead>\n",
       "  <tbody>\n",
       "    <tr>\n",
       "      <th>936</th>\n",
       "      <td>BM12_TFPPNCN12</td>\n",
       "      <td>Meio de pagamento ampliado -  M4 - títulos fed...</td>\n",
       "    </tr>\n",
       "    <tr>\n",
       "      <th>937</th>\n",
       "      <td>BM12_TFPPNCNY12</td>\n",
       "      <td>Meio de pagamento ampliado - M4 - títulos fede...</td>\n",
       "    </tr>\n",
       "    <tr>\n",
       "      <th>3079</th>\n",
       "      <td>BM12_TPFOVER12</td>\n",
       "      <td>Títulos - federais - indexados à Over / Selic ...</td>\n",
       "    </tr>\n",
       "    <tr>\n",
       "      <th>3080</th>\n",
       "      <td>BM12_TPFOVERMA12</td>\n",
       "      <td>Dívida mobiliária federal - participação index...</td>\n",
       "    </tr>\n",
       "    <tr>\n",
       "      <th>7550</th>\n",
       "      <td>PAN_TJOVER</td>\n",
       "      <td>Taxa de juros nominal - Over / Selic</td>\n",
       "    </tr>\n",
       "    <tr>\n",
       "      <th>7571</th>\n",
       "      <td>PAN12_TJOVER12</td>\n",
       "      <td>Taxa de juros nominal - Over / Selic</td>\n",
       "    </tr>\n",
       "    <tr>\n",
       "      <th>7596</th>\n",
       "      <td>PAN4_TJOVER4</td>\n",
       "      <td>Taxa de juros nominal - Over / Selic</td>\n",
       "    </tr>\n",
       "    <tr>\n",
       "      <th>8611</th>\n",
       "      <td>BM12_TJOVER12</td>\n",
       "      <td>Taxa de juros - Over / Selic - acumulada no mês</td>\n",
       "    </tr>\n",
       "    <tr>\n",
       "      <th>8616</th>\n",
       "      <td>BM366_TJOVER366</td>\n",
       "      <td>Taxa de juros - Selic - fixada pelo Copom</td>\n",
       "    </tr>\n",
       "    <tr>\n",
       "      <th>8630</th>\n",
       "      <td>GM366_TJOVER366</td>\n",
       "      <td>Taxa de juros - Over / Selic</td>\n",
       "    </tr>\n",
       "    <tr>\n",
       "      <th>8631</th>\n",
       "      <td>GM366_TJOVERV366</td>\n",
       "      <td>Taxa de juros - Over / Selic - volatilidade</td>\n",
       "    </tr>\n",
       "  </tbody>\n",
       "</table>\n",
       "</div>"
      ],
      "text/plain": [
       "                  CODE                                               NAME\n",
       "936     BM12_TFPPNCN12  Meio de pagamento ampliado -  M4 - títulos fed...\n",
       "937    BM12_TFPPNCNY12  Meio de pagamento ampliado - M4 - títulos fede...\n",
       "3079    BM12_TPFOVER12  Títulos - federais - indexados à Over / Selic ...\n",
       "3080  BM12_TPFOVERMA12  Dívida mobiliária federal - participação index...\n",
       "7550        PAN_TJOVER               Taxa de juros nominal - Over / Selic\n",
       "7571    PAN12_TJOVER12               Taxa de juros nominal - Over / Selic\n",
       "7596      PAN4_TJOVER4               Taxa de juros nominal - Over / Selic\n",
       "8611     BM12_TJOVER12    Taxa de juros - Over / Selic - acumulada no mês\n",
       "8616   BM366_TJOVER366          Taxa de juros - Selic - fixada pelo Copom\n",
       "8630   GM366_TJOVER366                       Taxa de juros - Over / Selic\n",
       "8631  GM366_TJOVERV366        Taxa de juros - Over / Selic - volatilidade"
      ]
     },
     "execution_count": 3,
     "metadata": {},
     "output_type": "execute_result"
    }
   ],
   "source": [
    "import ipeadatapy as ip\n",
    "\n",
    "ip.list_series('Selic')"
   ]
  },
  {
   "cell_type": "code",
   "execution_count": 4,
   "id": "9ea58cb8-6495-4b7c-b083-a5f31e1cb6e7",
   "metadata": {},
   "outputs": [
    {
     "data": {
      "text/html": [
       "<div>\n",
       "<style scoped>\n",
       "    .dataframe tbody tr th:only-of-type {\n",
       "        vertical-align: middle;\n",
       "    }\n",
       "\n",
       "    .dataframe tbody tr th {\n",
       "        vertical-align: top;\n",
       "    }\n",
       "\n",
       "    .dataframe thead th {\n",
       "        text-align: right;\n",
       "    }\n",
       "</style>\n",
       "<table border=\"1\" class=\"dataframe\">\n",
       "  <thead>\n",
       "    <tr style=\"text-align: right;\">\n",
       "      <th></th>\n",
       "      <th>CODE</th>\n",
       "      <th>RAW DATE</th>\n",
       "      <th>DAY</th>\n",
       "      <th>MONTH</th>\n",
       "      <th>YEAR</th>\n",
       "      <th>VALUE ((% a.m.))</th>\n",
       "    </tr>\n",
       "    <tr>\n",
       "      <th>DATE</th>\n",
       "      <th></th>\n",
       "      <th></th>\n",
       "      <th></th>\n",
       "      <th></th>\n",
       "      <th></th>\n",
       "      <th></th>\n",
       "    </tr>\n",
       "  </thead>\n",
       "  <tbody>\n",
       "    <tr>\n",
       "      <th>2020-01-01</th>\n",
       "      <td>BM12_TJOVER12</td>\n",
       "      <td>2020-01-01T00:00:00-03:00</td>\n",
       "      <td>1</td>\n",
       "      <td>1</td>\n",
       "      <td>2020</td>\n",
       "      <td>0.38</td>\n",
       "    </tr>\n",
       "    <tr>\n",
       "      <th>2020-02-01</th>\n",
       "      <td>BM12_TJOVER12</td>\n",
       "      <td>2020-02-01T00:00:00-03:00</td>\n",
       "      <td>1</td>\n",
       "      <td>2</td>\n",
       "      <td>2020</td>\n",
       "      <td>0.29</td>\n",
       "    </tr>\n",
       "    <tr>\n",
       "      <th>2020-03-01</th>\n",
       "      <td>BM12_TJOVER12</td>\n",
       "      <td>2020-03-01T00:00:00-03:00</td>\n",
       "      <td>1</td>\n",
       "      <td>3</td>\n",
       "      <td>2020</td>\n",
       "      <td>0.34</td>\n",
       "    </tr>\n",
       "    <tr>\n",
       "      <th>2020-04-01</th>\n",
       "      <td>BM12_TJOVER12</td>\n",
       "      <td>2020-04-01T00:00:00-03:00</td>\n",
       "      <td>1</td>\n",
       "      <td>4</td>\n",
       "      <td>2020</td>\n",
       "      <td>0.28</td>\n",
       "    </tr>\n",
       "    <tr>\n",
       "      <th>2020-05-01</th>\n",
       "      <td>BM12_TJOVER12</td>\n",
       "      <td>2020-05-01T00:00:00-03:00</td>\n",
       "      <td>1</td>\n",
       "      <td>5</td>\n",
       "      <td>2020</td>\n",
       "      <td>0.24</td>\n",
       "    </tr>\n",
       "    <tr>\n",
       "      <th>2020-06-01</th>\n",
       "      <td>BM12_TJOVER12</td>\n",
       "      <td>2020-06-01T00:00:00-03:00</td>\n",
       "      <td>1</td>\n",
       "      <td>6</td>\n",
       "      <td>2020</td>\n",
       "      <td>0.21</td>\n",
       "    </tr>\n",
       "    <tr>\n",
       "      <th>2020-07-01</th>\n",
       "      <td>BM12_TJOVER12</td>\n",
       "      <td>2020-07-01T00:00:00-03:00</td>\n",
       "      <td>1</td>\n",
       "      <td>7</td>\n",
       "      <td>2020</td>\n",
       "      <td>0.19</td>\n",
       "    </tr>\n",
       "    <tr>\n",
       "      <th>2020-08-01</th>\n",
       "      <td>BM12_TJOVER12</td>\n",
       "      <td>2020-08-01T00:00:00-03:00</td>\n",
       "      <td>1</td>\n",
       "      <td>8</td>\n",
       "      <td>2020</td>\n",
       "      <td>0.16</td>\n",
       "    </tr>\n",
       "    <tr>\n",
       "      <th>2020-09-01</th>\n",
       "      <td>BM12_TJOVER12</td>\n",
       "      <td>2020-09-01T00:00:00-03:00</td>\n",
       "      <td>1</td>\n",
       "      <td>9</td>\n",
       "      <td>2020</td>\n",
       "      <td>0.16</td>\n",
       "    </tr>\n",
       "    <tr>\n",
       "      <th>2020-10-01</th>\n",
       "      <td>BM12_TJOVER12</td>\n",
       "      <td>2020-10-01T00:00:00-03:00</td>\n",
       "      <td>1</td>\n",
       "      <td>10</td>\n",
       "      <td>2020</td>\n",
       "      <td>0.16</td>\n",
       "    </tr>\n",
       "    <tr>\n",
       "      <th>2020-11-01</th>\n",
       "      <td>BM12_TJOVER12</td>\n",
       "      <td>2020-11-01T00:00:00-03:00</td>\n",
       "      <td>1</td>\n",
       "      <td>11</td>\n",
       "      <td>2020</td>\n",
       "      <td>0.15</td>\n",
       "    </tr>\n",
       "    <tr>\n",
       "      <th>2020-12-01</th>\n",
       "      <td>BM12_TJOVER12</td>\n",
       "      <td>2020-12-01T00:00:00-03:00</td>\n",
       "      <td>1</td>\n",
       "      <td>12</td>\n",
       "      <td>2020</td>\n",
       "      <td>0.16</td>\n",
       "    </tr>\n",
       "  </tbody>\n",
       "</table>\n",
       "</div>"
      ],
      "text/plain": [
       "                     CODE                   RAW DATE  DAY  MONTH  YEAR  \\\n",
       "DATE                                                                     \n",
       "2020-01-01  BM12_TJOVER12  2020-01-01T00:00:00-03:00    1      1  2020   \n",
       "2020-02-01  BM12_TJOVER12  2020-02-01T00:00:00-03:00    1      2  2020   \n",
       "2020-03-01  BM12_TJOVER12  2020-03-01T00:00:00-03:00    1      3  2020   \n",
       "2020-04-01  BM12_TJOVER12  2020-04-01T00:00:00-03:00    1      4  2020   \n",
       "2020-05-01  BM12_TJOVER12  2020-05-01T00:00:00-03:00    1      5  2020   \n",
       "2020-06-01  BM12_TJOVER12  2020-06-01T00:00:00-03:00    1      6  2020   \n",
       "2020-07-01  BM12_TJOVER12  2020-07-01T00:00:00-03:00    1      7  2020   \n",
       "2020-08-01  BM12_TJOVER12  2020-08-01T00:00:00-03:00    1      8  2020   \n",
       "2020-09-01  BM12_TJOVER12  2020-09-01T00:00:00-03:00    1      9  2020   \n",
       "2020-10-01  BM12_TJOVER12  2020-10-01T00:00:00-03:00    1     10  2020   \n",
       "2020-11-01  BM12_TJOVER12  2020-11-01T00:00:00-03:00    1     11  2020   \n",
       "2020-12-01  BM12_TJOVER12  2020-12-01T00:00:00-03:00    1     12  2020   \n",
       "\n",
       "            VALUE ((% a.m.))  \n",
       "DATE                          \n",
       "2020-01-01              0.38  \n",
       "2020-02-01              0.29  \n",
       "2020-03-01              0.34  \n",
       "2020-04-01              0.28  \n",
       "2020-05-01              0.24  \n",
       "2020-06-01              0.21  \n",
       "2020-07-01              0.19  \n",
       "2020-08-01              0.16  \n",
       "2020-09-01              0.16  \n",
       "2020-10-01              0.16  \n",
       "2020-11-01              0.15  \n",
       "2020-12-01              0.16  "
      ]
     },
     "execution_count": 4,
     "metadata": {},
     "output_type": "execute_result"
    }
   ],
   "source": [
    "selic = ip.timeseries('BM12_TJOVER12', yearGreaterThan=2019, yearSmallerThan=2021)\n",
    "selic"
   ]
  },
  {
   "cell_type": "markdown",
   "id": "184b02e8-04fa-48ea-8b6c-7cfc0b0f72d5",
   "metadata": {},
   "source": [
    "2) Criação de função própria: durante o projeto, deve criar e utilizar, pelo menos, 1 função própria\n",
    "\n",
    "2.1) Restrição: a função pode ser do tipo def ou lambda, mas precisa ser criada e utilizada em algum momento do projeto\n",
    "\n",
    "2.2) Peso: 1,5"
   ]
  },
  {
   "cell_type": "code",
   "execution_count": 68,
   "id": "feafa508-eaea-49ae-bc42-2eadb829b338",
   "metadata": {},
   "outputs": [
    {
     "data": {
      "text/plain": [
       "[(0, 0),\n",
       " (1, 0.38),\n",
       " (2, 0.29),\n",
       " (3, 0.34),\n",
       " (4, 0.28),\n",
       " (5, 0.24),\n",
       " (6, 0.21),\n",
       " (7, 0.19),\n",
       " (8, 0.16),\n",
       " (9, 0.16),\n",
       " (10, 0.16),\n",
       " (11, 0.15),\n",
       " (12, 0.16)]"
      ]
     },
     "execution_count": 68,
     "metadata": {},
     "output_type": "execute_result"
    }
   ],
   "source": [
    "seq = [0, 0.38, 0.29, 0.34, 0.28, 0.24, 0.21, 0.19, 0.16, 0.16, 0.16, 0.15, 0.16]\n",
    "list(enumerate(seq))"
   ]
  },
  {
   "cell_type": "code",
   "execution_count": 69,
   "id": "32a40ccf-0cc1-41cc-a8af-abd7cc0dc628",
   "metadata": {},
   "outputs": [
    {
     "name": "stdout",
     "output_type": "stream",
     "text": [
      "[0, 0.76, 0.58, 0.68, 0.56, 0.48, 0.42, 0.38, 0.32, 0.32, 0.32, 0.3, 0.32]\n"
     ]
    }
   ],
   "source": [
    "dobro = list(map(lambda x: x * 2, seq))\n",
    "\n",
    "print(dobro)"
   ]
  },
  {
   "cell_type": "markdown",
   "id": "75a99ccc-e8d5-401d-acb1-36af353ba88e",
   "metadata": {},
   "source": [
    "3) Estrutura de repetição e condição: Ao longo do projeto deve constar o uso de, pelo menos, uma estrutura de repetição (for ou while) e uma estrutura de condição (if, elif, else)\n",
    "\n",
    "3.1) Restrição: Deve ter, pelo menos, uma repetição (for ou while) e uma condição (if)\n",
    "\n",
    "3.2) Peso: 1,5"
   ]
  },
  {
   "cell_type": "code",
   "execution_count": 72,
   "id": "b4739848-3ccc-40fd-a96f-8a1d4e661702",
   "metadata": {},
   "outputs": [
    {
     "name": "stdout",
     "output_type": "stream",
     "text": [
      "O valor 0, ou seja, a taxa selix seria baixa, caso fosse o dobro\n",
      "O valor 0.76, ou seja, a taxa selix seria alta, caso fosse o dobro\n",
      "O valor 0.58, ou seja, a taxa selix seria alta, caso fosse o dobro\n",
      "O valor 0.68, ou seja, a taxa selix seria alta, caso fosse o dobro\n",
      "O valor 0.56, ou seja, a taxa selix seria alta, caso fosse o dobro\n",
      "O valor 0.48, ou seja, a taxa selix seria alta, caso fosse o dobro\n",
      "O valor 0.42, ou seja, a taxa selix seria alta, caso fosse o dobro\n",
      "O valor 0.38, ou seja, a taxa selix seria alta, caso fosse o dobro\n",
      "O valor 0.32, ou seja, a taxa selix seria baixa, caso fosse o dobro\n",
      "O valor 0.32, ou seja, a taxa selix seria baixa, caso fosse o dobro\n",
      "O valor 0.32, ou seja, a taxa selix seria baixa, caso fosse o dobro\n",
      "O valor 0.3, ou seja, a taxa selix seria baixa, caso fosse o dobro\n",
      "O valor 0.32, ou seja, a taxa selix seria baixa, caso fosse o dobro\n"
     ]
    }
   ],
   "source": [
    "## Utilizando o dobro das taxas selic de cada mês é possível descobrir se dessa forma elas seriam altas ou baixas\n",
    "for valor in dobro:\n",
    "    if valor < 0.38:\n",
    "        print (f'O valor {valor}, ou seja, a taxa selix seria baixa, caso fosse o dobro')\n",
    "    elif indice > 0.39:\n",
    "        print (f'O valor {valor}, ou seja, a taxa selix seria alta, caso fosse o dobro')"
   ]
  },
  {
   "cell_type": "markdown",
   "id": "6df8f472-e2f4-40c2-9c80-e7e4e92b6cc2",
   "metadata": {},
   "source": [
    "4) Funções especiais: Das 5 funções especiais vistas na aula 12 (map, reduce, zap, enumerate e filter), pelo menos 1 delas precisa ser utilizada no projeto de qualquer forma\n",
    "\n",
    "4.1) Restrição: Pelo menos 1 das funções especiais precisar ser utilizada em algum momento do projeto\n",
    "\n",
    "4.2) Peso: 1,0"
   ]
  },
  {
   "cell_type": "code",
   "execution_count": 71,
   "id": "c3ef81a4-b17b-4f44-acd3-cca3ab629e66",
   "metadata": {},
   "outputs": [
    {
     "data": {
      "text/plain": [
       "[0, 0.38, 0.29, 0.34, 0.28, 0.24, 0.21, 0.19, 0.16, 0.16, 0.16, 0.15, 0.16]"
      ]
     },
     "execution_count": 71,
     "metadata": {},
     "output_type": "execute_result"
    }
   ],
   "source": [
    "## Usando a função map() para subtrair os elementos de 2 listas, retornando as taxas originais\n",
    "lista1 = [0, 0.38, 0.29, 0.34, 0.28, 0.24, 0.21, 0.19, 0.16, 0.16, 0.16, 0.15, 0.16]\n",
    "lista2 = [0, 0.76, 0.58, 0.68, 0.56, 0.48, 0.42, 0.38, 0.32, 0.32, 0.32, 0.3, 0.32]\n",
    "\n",
    "diferença_listas= list(map(lambda x, y : x - y, lista2, lista1))\n",
    "diferença_listas"
   ]
  },
  {
   "cell_type": "markdown",
   "id": "751a6904-321d-4fe6-897c-7030a00a18a2",
   "metadata": {},
   "source": [
    "5) Resumo estatístico: Entre todas as formas de resumo das variáveis numéricas que vimos ao longo das aulas (operadores matemáticos básicos, sum, mean, median), deve escolher e utilizar pelo menos duas delas. O uso pode ser em alguma função, repetição ou condição, mas em algum lugar precisa realizar algum cálculo.\n",
    "\n",
    "5.1) Restrição: Uso de, pelo menos duas operações matemáticas em qualquer lugar do projeto\n",
    "\n",
    "5.2) Peso: 1,5"
   ]
  },
  {
   "cell_type": "code",
   "execution_count": 88,
   "id": "ca0ef2ad-99c0-426e-bf16-dc9eab422e70",
   "metadata": {},
   "outputs": [
    {
     "name": "stdout",
     "output_type": "stream",
     "text": [
      "2.72\n",
      "0.20923076923076925\n"
     ]
    }
   ],
   "source": [
    "soma = sum(lista1)\n",
    "print(sum(lista1))\n",
    "\n",
    "media = sum(lista1)/len(lista1)\n",
    "print(media)"
   ]
  },
  {
   "cell_type": "markdown",
   "id": "98d781c3-f6b0-4e55-8b1a-37aa3fe5e656",
   "metadata": {},
   "source": [
    "6) Publicação usando Quarto: O arquivo do projeto deve ser preparado para publicação usando o Quarto. Ao final da construção do projeto, deve parametrizar o arquivo para incluir a célula Raw com os dados de publicação no início e as referências nas células que contenham tabela ou gráfico\n",
    "\n",
    "6.1) Restrição: Parametrização correta da célula Raw no início de referência no início da celula de pelo menos um objeto (tabela ou gráfico)\n",
    "\n",
    "6.2) Peso: 1,0"
   ]
  },
  {
   "cell_type": "markdown",
   "id": "3d3431cb-ac03-45b0-a2a4-1c3c5977bf64",
   "metadata": {},
   "source": [
    "7) Publicação do projeto no GitHub: Ao final, deve postar o arquivo do projeto (.ipynb) em um repositório no do GitHub (como vimos na aula 13). Deve lembrar de deixar o repositório como público para que consiga conferir no momento da correção. Se utilizou base de dados em CSV, deve incluir o arquivo no repositório também\n",
    "\n",
    "7.1) Restrição: Publicação do arquivo .ipynb em repositório próprio e público no GitHub e indicação do link do repositório no momento da postagem\n",
    "\n",
    "7.2) Peso: 1,5"
   ]
  },
  {
   "cell_type": "code",
   "execution_count": null,
   "id": "b09d9842-f842-4e2e-9a2c-90ba489a0f3a",
   "metadata": {},
   "outputs": [],
   "source": []
  }
 ],
 "metadata": {
  "kernelspec": {
   "display_name": "Python 3 (ipykernel)",
   "language": "python",
   "name": "python3"
  },
  "language_info": {
   "codemirror_mode": {
    "name": "ipython",
    "version": 3
   },
   "file_extension": ".py",
   "mimetype": "text/x-python",
   "name": "python",
   "nbconvert_exporter": "python",
   "pygments_lexer": "ipython3",
   "version": "3.9.13"
  }
 },
 "nbformat": 4,
 "nbformat_minor": 5
}
